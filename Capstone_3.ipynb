{
  "nbformat": 4,
  "nbformat_minor": 0,
  "metadata": {
    "colab": {
      "name": "Capstone-3.ipynb",
      "provenance": [],
      "collapsed_sections": [],
      "machine_shape": "hm",
      "authorship_tag": "ABX9TyOroOWYSvFvDjFSlAMIK4Ap",
      "include_colab_link": true
    },
    "kernelspec": {
      "name": "python3",
      "display_name": "Python 3"
    },
    "accelerator": "GPU"
  },
  "cells": [
    {
      "cell_type": "markdown",
      "metadata": {
        "id": "view-in-github",
        "colab_type": "text"
      },
      "source": [
        "<a href=\"https://colab.research.google.com/github/abhinavgairola/NLP_Timeseries/blob/main/Capstone_3.ipynb\" target=\"_parent\"><img src=\"https://colab.research.google.com/assets/colab-badge.svg\" alt=\"Open In Colab\"/></a>"
      ]
    },
    {
      "cell_type": "code",
      "metadata": {
        "id": "KCsd8C8lda6F"
      },
      "source": [
        "#import requests\n",
        "#from urllib.request import urlopen, Request\n",
        "#from bs4 import BeautifulSoup"
      ],
      "execution_count": null,
      "outputs": []
    },
    {
      "cell_type": "code",
      "metadata": {
        "id": "4tMowsWkdmEK"
      },
      "source": [
        "#url = \"https://finviz.com/quote.ashx\"\n",
        "#def request(ticker):\n",
        "#  payload = {\"t\":ticker,'start':'2020-01-01','end':'2020-05-01'}\n",
        "#  response = requests.get(url,params=payload,headers={'user-agent':\"Customer\"})\n",
        "#  if response.status_code == 200:\n",
        "#    return response"
      ],
      "execution_count": null,
      "outputs": []
    },
    {
      "cell_type": "code",
      "metadata": {
        "id": "5y4Oj-3MeG-z"
      },
      "source": [
        "#soup = BeautifulSoup(request('AMZN').text, 'html.parser')"
      ],
      "execution_count": null,
      "outputs": []
    },
    {
      "cell_type": "code",
      "metadata": {
        "id": "aF1R7TV4hLq4"
      },
      "source": [
        "#soup.find(id='news-table')"
      ],
      "execution_count": null,
      "outputs": []
    },
    {
      "cell_type": "code",
      "metadata": {
        "id": "ozu94dEyrMS4"
      },
      "source": [
        "#! git clone https://github.com/Kriyszig/financial-news-data.git"
      ],
      "execution_count": null,
      "outputs": []
    },
    {
      "cell_type": "code",
      "metadata": {
        "id": "vGAb4ScpuhlS"
      },
      "source": [
        "#!git clone https://github.com/duynht/financial-news-dataset.git"
      ],
      "execution_count": null,
      "outputs": []
    },
    {
      "cell_type": "code",
      "metadata": {
        "id": "DLuPYj7FqRUj"
      },
      "source": [
        "#cd financial-news-data"
      ],
      "execution_count": null,
      "outputs": []
    },
    {
      "cell_type": "code",
      "metadata": {
        "id": "qkqhkE4UuyDn"
      },
      "source": [
        "#!python main.py"
      ],
      "execution_count": null,
      "outputs": []
    },
    {
      "cell_type": "code",
      "metadata": {
        "id": "GADJoiK6qYl1"
      },
      "source": [
        "#df.to_parquet('/content/drive/My Drive/News.gzip',compression='gzip')"
      ],
      "execution_count": null,
      "outputs": []
    },
    {
      "cell_type": "code",
      "metadata": {
        "colab": {
          "base_uri": "https://localhost:8080/"
        },
        "id": "Moda3FCB0MBo",
        "outputId": "a788c898-e346-43d1-d343-15ca5a86b795"
      },
      "source": [
        "from google.colab import drive\n",
        "drive.mount('/content/drive')"
      ],
      "execution_count": 3,
      "outputs": [
        {
          "output_type": "stream",
          "text": [
            "Mounted at /content/drive\n"
          ],
          "name": "stdout"
        }
      ]
    },
    {
      "cell_type": "code",
      "metadata": {
        "id": "HFZQkYYSu_sI"
      },
      "source": [
        "import pandas as pd\n",
        "import numpy as np\n",
        "df = pd.read_parquet('/content/drive/My Drive/News.gzip')"
      ],
      "execution_count": 2,
      "outputs": []
    },
    {
      "cell_type": "code",
      "metadata": {
        "id": "8PT-DvodvHai",
        "colab": {
          "base_uri": "https://localhost:8080/",
          "height": 886
        },
        "outputId": "d4ce9155-f459-43e6-cfae-16a9a21a96e3"
      },
      "source": [
        "\n",
        "df.head(10)"
      ],
      "execution_count": null,
      "outputs": [
        {
          "output_type": "execute_result",
          "data": {
            "text/html": [
              "<div>\n",
              "<style scoped>\n",
              "    .dataframe tbody tr th:only-of-type {\n",
              "        vertical-align: middle;\n",
              "    }\n",
              "\n",
              "    .dataframe tbody tr th {\n",
              "        vertical-align: top;\n",
              "    }\n",
              "\n",
              "    .dataframe thead th {\n",
              "        text-align: right;\n",
              "    }\n",
              "</style>\n",
              "<table border=\"1\" class=\"dataframe\">\n",
              "  <thead>\n",
              "    <tr style=\"text-align: right;\">\n",
              "      <th></th>\n",
              "      <th>Headline</th>\n",
              "      <th>Journalists</th>\n",
              "      <th>Date</th>\n",
              "      <th>Link</th>\n",
              "      <th>Article</th>\n",
              "    </tr>\n",
              "  </thead>\n",
              "  <tbody>\n",
              "    <tr>\n",
              "      <th>0</th>\n",
              "      <td>Fed officials at odds on how long to keep rate...</td>\n",
              "      <td>[]</td>\n",
              "      <td>Tue Mar 2, 2010 9:35pm EST</td>\n",
              "      <td>http://www.reuters.com/article/2010/03/03/us-u...</td>\n",
              "      <td>NEW YORK  (Reuters) - Top Federal Reserve offi...</td>\n",
              "    </tr>\n",
              "    <tr>\n",
              "      <th>1</th>\n",
              "      <td>Market finishes flat as Obama pushes regulation</td>\n",
              "      <td>[Edward Krudy]</td>\n",
              "      <td>Wed Mar 3, 2010 4:59pm EST</td>\n",
              "      <td>http://www.reuters.com/article/2010/03/03/us-m...</td>\n",
              "      <td>NEW YORK  (Reuters) - U.S. stocks ended little...</td>\n",
              "    </tr>\n",
              "    <tr>\n",
              "      <th>2</th>\n",
              "      <td>Euro's woes mixed blessing for carmakers</td>\n",
              "      <td>[Helen Massy-Beresford, Christiaan Hetzner]</td>\n",
              "      <td>Wed Mar 3, 2010 12:08pm EST</td>\n",
              "      <td>http://www.reuters.com/article/2010/03/03/us-a...</td>\n",
              "      <td>GENEVA  (Reuters) - Global carmakers exporting...</td>\n",
              "    </tr>\n",
              "    <tr>\n",
              "      <th>3</th>\n",
              "      <td>Wells Fargo CEO '09 compensation more than dou...</td>\n",
              "      <td>[Elinor Comlay]</td>\n",
              "      <td>Wed Mar 3, 2010 6:44pm EST</td>\n",
              "      <td>http://www.reuters.com/article/2010/03/03/us-w...</td>\n",
              "      <td>NEW YORK  (Reuters) - Wells Fargo &amp; Co ( WFC.N...</td>\n",
              "    </tr>\n",
              "    <tr>\n",
              "      <th>4</th>\n",
              "      <td>Molson noncommittal on cash use</td>\n",
              "      <td>[Martinne Geller]</td>\n",
              "      <td>Wed Mar 3, 2010 6:27pm EST</td>\n",
              "      <td>http://www.reuters.com/article/2010/03/03/us-m...</td>\n",
              "      <td>NEW YORK  (Reuters) - Molson Coors Brewing Co ...</td>\n",
              "    </tr>\n",
              "    <tr>\n",
              "      <th>5</th>\n",
              "      <td>Islamic finance must harmonize practices to grow</td>\n",
              "      <td>[Suleiman al-Khalidi]</td>\n",
              "      <td>Wed Mar 3, 2010 3:53pm EST</td>\n",
              "      <td>http://www.reuters.com/article/2010/03/03/us-i...</td>\n",
              "      <td>SWEIMEH, Jordan, March 3 (Reuter) - Islamic ba...</td>\n",
              "    </tr>\n",
              "    <tr>\n",
              "      <th>6</th>\n",
              "      <td>Fewer sellers cut home prices in Feb: Zillow</td>\n",
              "      <td>[Julie Haviv]</td>\n",
              "      <td>Wed Mar 3, 2010 8:06am EST</td>\n",
              "      <td>http://www.reuters.com/article/2010/03/03/us-u...</td>\n",
              "      <td>NEW YORK  (Reuters) - The percentage of U.S. h...</td>\n",
              "    </tr>\n",
              "    <tr>\n",
              "      <th>7</th>\n",
              "      <td>Austerity steps to ease, not end Greek crisis</td>\n",
              "      <td>[Andrew Torchia]</td>\n",
              "      <td>Wed Mar 3, 2010 8:57am EST</td>\n",
              "      <td>http://www.reuters.com/article/2010/03/03/us-g...</td>\n",
              "      <td>LONDON  (Reuters) - Austerity steps announced ...</td>\n",
              "    </tr>\n",
              "    <tr>\n",
              "      <th>8</th>\n",
              "      <td>Factbox: White House draft language on Volcker...</td>\n",
              "      <td>[]</td>\n",
              "      <td>Wed Mar 3, 2010 2:17pm EST</td>\n",
              "      <td>http://www.reuters.com/article/2010/03/03/us-f...</td>\n",
              "      <td>WASHINGTON  (Reuters) - The Obama administrati...</td>\n",
              "    </tr>\n",
              "    <tr>\n",
              "      <th>9</th>\n",
              "      <td>EU exec yet to see new Greek austerity plan</td>\n",
              "      <td>[]</td>\n",
              "      <td>Wed Mar 3, 2010 6:21am EST</td>\n",
              "      <td>http://www.reuters.com/article/2010/03/03/us-e...</td>\n",
              "      <td>BRUSSELS  (Reuters) - The European Commission ...</td>\n",
              "    </tr>\n",
              "  </tbody>\n",
              "</table>\n",
              "</div>"
            ],
            "text/plain": [
              "                                            Headline  ...                                            Article\n",
              "0  Fed officials at odds on how long to keep rate...  ...  NEW YORK  (Reuters) - Top Federal Reserve offi...\n",
              "1    Market finishes flat as Obama pushes regulation  ...  NEW YORK  (Reuters) - U.S. stocks ended little...\n",
              "2           Euro's woes mixed blessing for carmakers  ...  GENEVA  (Reuters) - Global carmakers exporting...\n",
              "3  Wells Fargo CEO '09 compensation more than dou...  ...  NEW YORK  (Reuters) - Wells Fargo & Co ( WFC.N...\n",
              "4                    Molson noncommittal on cash use  ...  NEW YORK  (Reuters) - Molson Coors Brewing Co ...\n",
              "5   Islamic finance must harmonize practices to grow  ...  SWEIMEH, Jordan, March 3 (Reuter) - Islamic ba...\n",
              "6       Fewer sellers cut home prices in Feb: Zillow  ...  NEW YORK  (Reuters) - The percentage of U.S. h...\n",
              "7      Austerity steps to ease, not end Greek crisis  ...  LONDON  (Reuters) - Austerity steps announced ...\n",
              "8  Factbox: White House draft language on Volcker...  ...  WASHINGTON  (Reuters) - The Obama administrati...\n",
              "9        EU exec yet to see new Greek austerity plan  ...  BRUSSELS  (Reuters) - The European Commission ...\n",
              "\n",
              "[10 rows x 5 columns]"
            ]
          },
          "metadata": {
            "tags": []
          },
          "execution_count": 15
        }
      ]
    },
    {
      "cell_type": "code",
      "metadata": {
        "id": "_tMhNlXbvOZl"
      },
      "source": [
        "Data_Article_Headline = df[['Date','Headline','Article']].sort_values(by='Date',ascending=False)"
      ],
      "execution_count": 13,
      "outputs": []
    },
    {
      "cell_type": "code",
      "metadata": {
        "colab": {
          "base_uri": "https://localhost:8080/"
        },
        "id": "W7v7nU_LYAsT",
        "outputId": "dd7a13d6-5d52-40b9-81b4-0b837781a645"
      },
      "source": [
        "Data_Article_Headline['Headline'].head(5)"
      ],
      "execution_count": 14,
      "outputs": [
        {
          "output_type": "execute_result",
          "data": {
            "text/plain": [
              "43749        Goldman CEO warns against regulatory overkill\n",
              "43731                     Home loan demand at 3-month high\n",
              "31069      Texas Instruments raises forecasts, shares rise\n",
              "43720    July consumer credit falls a record $21.6 billion\n",
              "43727        Bernanke's back but Obama can still shape Fed\n",
              "Name: Headline, dtype: object"
            ]
          },
          "metadata": {
            "tags": []
          },
          "execution_count": 14
        }
      ]
    },
    {
      "cell_type": "code",
      "metadata": {
        "id": "03n7h3aj4Wv2"
      },
      "source": [
        "import re \n",
        "pattern = re.compile(r'[,\\:,\\',\\\"\"\"\",\\;]')\n",
        "pattern_2 = re.compile(r'(text|quotebox)')\n",
        "Headline = []\n",
        "#count = 0\n",
        "for text in (Data_Article_Headline.Headline):\n",
        "  text_2 = re.sub(pattern,'',text.lower())\n",
        "  text_2 = re.sub(pattern_2,'',text_2)\n",
        "  Headline.append(text_2)\n",
        "Data_Article_Headline['Headline_2']=Headline"
      ],
      "execution_count": 19,
      "outputs": []
    },
    {
      "cell_type": "markdown",
      "metadata": {
        "id": "eBUH5wJ1Y4VN"
      },
      "source": [
        "### "
      ]
    },
    {
      "cell_type": "code",
      "metadata": {
        "colab": {
          "base_uri": "https://localhost:8080/"
        },
        "id": "6Ld3EWUPDeOH",
        "outputId": "b471609d-2d88-4ba6-f839-3f1f16c4c5ef"
      },
      "source": [
        "Data_Article_Headline['Headline_2'].head(10)"
      ],
      "execution_count": 20,
      "outputs": [
        {
          "output_type": "execute_result",
          "data": {
            "text/plain": [
              "43749        goldman ceo warns against regulatory overkill\n",
              "43731                     home loan demand at 3-month high\n",
              "31069       texas instruments raises forecasts shares rise\n",
              "43720    july consumer credit falls a record $21.6 billion\n",
              "43727         bernankes back but obama can still shape fed\n",
              "31065                        opec end of meeting statement\n",
              "43740                    talbots shares rise after results\n",
              "31072             opec agrees to keep oil output unchanged\n",
              "43752        another financial crisis inevitable greenspan\n",
              "43735    kraft seeks $8 billion financing for cadbury b...\n",
              "Name: Headline_2, dtype: object"
            ]
          },
          "metadata": {
            "tags": []
          },
          "execution_count": 20
        }
      ]
    },
    {
      "cell_type": "code",
      "metadata": {
        "id": "T-drKfxAAQ5G"
      },
      "source": [
        "#!python -m spacy download en_core_web_lg"
      ],
      "execution_count": 17,
      "outputs": []
    },
    {
      "cell_type": "code",
      "metadata": {
        "id": "Z0O9DIu6OZgT",
        "outputId": "56702a82-f95c-43cd-cccf-8e1be6d6516a",
        "colab": {
          "base_uri": "https://localhost:8080/"
        }
      },
      "source": [
        "import spacy\n",
        "spacy.prefer_gpu()\n",
        "nlp = spacy.load(\"en_core_web_lg\")\n",
        "lemmatizer = nlp.Defaults.create_lemmatizer()\n",
        "Data_Lemmatize = np.copy(Data_Article_Headline['Headline_2'])\n",
        "for i,word in enumerate(Data_Lemmatize):\n",
        "  temp = word.split()\n",
        "  temp_2 = [lemmatizer.lookup(word) for word in temp]\n",
        "  temp_2 = \" \".join(temp_2)\n",
        "  Data_Lemmatize[i]=temp_2\n",
        "Data_Article_Headline['Lemmatize_hd'] = Data_Lemmatize\n",
        "Data_Article_Headline['Lemmatize_hd'].head(10)\n",
        "#[lemmatizer.lookup(word) for word in Data_Lemmatize]"
      ],
      "execution_count": 21,
      "outputs": [
        {
          "output_type": "execute_result",
          "data": {
            "text/plain": [
              "43749        goldman ceo warns against regulatory overkill\n",
              "43731                     home loan demand at 3-month high\n",
              "31069       texas instruments raises forecasts shares rise\n",
              "43720    july consumer credit falls a record $21.6 billion\n",
              "43727         bernankes back but obama can still shape fed\n",
              "31065                        opec end of meeting statement\n",
              "43740                    talbots shares rise after results\n",
              "31072             opec agrees to keep oil output unchanged\n",
              "43752        another financial crisis inevitable greenspan\n",
              "43735    kraft seeks $8 billion financing for cadbury b...\n",
              "Name: Lemmatize_hd, dtype: object"
            ]
          },
          "metadata": {
            "tags": []
          },
          "execution_count": 21
        }
      ]
    },
    {
      "cell_type": "code",
      "metadata": {
        "colab": {
          "base_uri": "https://localhost:8080/",
          "height": 249
        },
        "id": "EkNfeouS2C2w",
        "outputId": "475fcf1d-5632-413f-d0c7-619554b7216d"
      },
      "source": [
        "print(\"Processing..\")\n",
        "from tqdm import tqdm\n",
        "Vector = {}\n",
        "for Headline in tqdm(Data_Article_Headline['Lemmatize_hd']):\n",
        "  #print(Headline)\n",
        "  doc = nlp(Headline)\n",
        "  #print(\"Translating the Headline {} and vector shape is {}\".format(Headline, doc.vector.shape))\n",
        "  Vector[Headline]=doc.vector\n",
        "    "
      ],
      "execution_count": 1,
      "outputs": [
        {
          "output_type": "stream",
          "text": [
            "Processing..\n"
          ],
          "name": "stdout"
        },
        {
          "output_type": "error",
          "ename": "NameError",
          "evalue": "ignored",
          "traceback": [
            "\u001b[0;31m---------------------------------------------------------------------------\u001b[0m",
            "\u001b[0;31mNameError\u001b[0m                                 Traceback (most recent call last)",
            "\u001b[0;32m<ipython-input-1-99e21c43eff8>\u001b[0m in \u001b[0;36m<module>\u001b[0;34m()\u001b[0m\n\u001b[1;32m      2\u001b[0m \u001b[0;32mfrom\u001b[0m \u001b[0mtqdm\u001b[0m \u001b[0;32mimport\u001b[0m \u001b[0mtqdm\u001b[0m\u001b[0;34m\u001b[0m\u001b[0;34m\u001b[0m\u001b[0m\n\u001b[1;32m      3\u001b[0m \u001b[0mVector\u001b[0m \u001b[0;34m=\u001b[0m \u001b[0;34m{\u001b[0m\u001b[0;34m}\u001b[0m\u001b[0;34m\u001b[0m\u001b[0;34m\u001b[0m\u001b[0m\n\u001b[0;32m----> 4\u001b[0;31m \u001b[0;32mfor\u001b[0m \u001b[0mHeadline\u001b[0m \u001b[0;32min\u001b[0m \u001b[0mtqdm\u001b[0m\u001b[0;34m(\u001b[0m\u001b[0mData_Article_Headline\u001b[0m\u001b[0;34m[\u001b[0m\u001b[0;34m'Lemmatize_hd'\u001b[0m\u001b[0;34m]\u001b[0m\u001b[0;34m)\u001b[0m\u001b[0;34m:\u001b[0m\u001b[0;34m\u001b[0m\u001b[0;34m\u001b[0m\u001b[0m\n\u001b[0m\u001b[1;32m      5\u001b[0m   \u001b[0;31m#print(Headline)\u001b[0m\u001b[0;34m\u001b[0m\u001b[0;34m\u001b[0m\u001b[0;34m\u001b[0m\u001b[0m\n\u001b[1;32m      6\u001b[0m   \u001b[0mdoc\u001b[0m \u001b[0;34m=\u001b[0m \u001b[0mnlp\u001b[0m\u001b[0;34m(\u001b[0m\u001b[0mHeadline\u001b[0m\u001b[0;34m)\u001b[0m\u001b[0;34m\u001b[0m\u001b[0;34m\u001b[0m\u001b[0m\n",
            "\u001b[0;31mNameError\u001b[0m: name 'Data_Article_Headline' is not defined"
          ]
        }
      ]
    },
    {
      "cell_type": "code",
      "metadata": {
        "id": "9ryxyP5a3oJB"
      },
      "source": [
        "import matplotlib.pyplot as plt"
      ],
      "execution_count": null,
      "outputs": []
    },
    {
      "cell_type": "code",
      "metadata": {
        "id": "J_fua0QF3hcG"
      },
      "source": [
        "ke=list(Vector.keys())\n",
        "Vector[ke[0]].shape\n",
        "Vector\n"
      ],
      "execution_count": null,
      "outputs": []
    },
    {
      "cell_type": "code",
      "metadata": {
        "id": "OqYR-c_1oXiK"
      },
      "source": [
        "ke= list(Vector.keys())\n",
        "import numpy as np\n",
        "import cupy as cp"
      ],
      "execution_count": null,
      "outputs": []
    },
    {
      "cell_type": "code",
      "metadata": {
        "id": "kPVN7s3NOAl0"
      },
      "source": [
        "ke = list(Vector.keys())\n",
        "for i in ke:\n",
        "  Vector[i] = cp.asnumpy(Vector[i])"
      ],
      "execution_count": null,
      "outputs": []
    },
    {
      "cell_type": "code",
      "metadata": {
        "id": "IVYV5psN2qQq"
      },
      "source": [
        "Headlines_to_vector = pd.DataFrame(Vector)"
      ],
      "execution_count": null,
      "outputs": []
    },
    {
      "cell_type": "code",
      "metadata": {
        "colab": {
          "base_uri": "https://localhost:8080/",
          "height": 406
        },
        "id": "M6E6eH9qObic",
        "outputId": "bca33a18-71ef-497b-ab6b-ec75e901f392"
      },
      "source": [
        "Headlines_to_vector.head(5)"
      ],
      "execution_count": null,
      "outputs": [
        {
          "output_type": "execute_result",
          "data": {
            "text/html": [
              "<div>\n",
              "<style scoped>\n",
              "    .dataframe tbody tr th:only-of-type {\n",
              "        vertical-align: middle;\n",
              "    }\n",
              "\n",
              "    .dataframe tbody tr th {\n",
              "        vertical-align: top;\n",
              "    }\n",
              "\n",
              "    .dataframe thead th {\n",
              "        text-align: right;\n",
              "    }\n",
              "</style>\n",
              "<table border=\"1\" class=\"dataframe\">\n",
              "  <thead>\n",
              "    <tr style=\"text-align: right;\">\n",
              "      <th></th>\n",
              "      <th>Goldman CEO warns against regulatory overkill</th>\n",
              "      <th>Home loan demand at 3-month high</th>\n",
              "      <th>Texas Instruments raises forecasts shares rise</th>\n",
              "      <th>July consumer credit falls a record $21.6 billion</th>\n",
              "      <th>Bernankes back but Obama can still shape Fed</th>\n",
              "      <th>TEXT OPEC end of meeting statement</th>\n",
              "      <th>Talbots shares rise after results</th>\n",
              "      <th>QUOTEBOX OPEC agrees to keep oil output unchanged</th>\n",
              "      <th>Another financial crisis inevitable Greenspan</th>\n",
              "      <th>Kraft seeks $8 billion financing for Cadbury bid report</th>\n",
              "      <th>Barrick to sell $3 billion in stock to buy back hedges</th>\n",
              "      <th>OPEC agrees to keep output unchanged delegates</th>\n",
              "      <th>Frail-looking Steve Jobs returns to Apple stage</th>\n",
              "      <th>BofA pushes SEC settlement rejects Cuomo charges</th>\n",
              "      <th>Goldman boss says anger over pay justified</th>\n",
              "      <th>Chinas Geely eyes bid for Fords Volvo cars</th>\n",
              "      <th>Wall Street closes up S&amp;P posts highest 09 finish</th>\n",
              "      <th>Feds Beige Book sees signs economy is improving</th>\n",
              "      <th>Fed officials see slow recovery for labor market</th>\n",
              "      <th>Saudi Arabia leads the call for no OPEC change</th>\n",
              "      <th>Global oil supplies to outstrip demand EIA</th>\n",
              "      <th>Chinas Geely eyes bid for Fords Volvo car</th>\n",
              "      <th>Home loan demand at 3-month high millions more foreclosures</th>\n",
              "      <th>Stocks advance on recovery hopes dollar weakens</th>\n",
              "      <th>BofA letter rejects charges by Cuomo</th>\n",
              "      <th>BofA SEC say execs not liable on Merrill bonuses</th>\n",
              "      <th>Treasury sees millions more foreclosures</th>\n",
              "      <th>Oil prices rise slightly as dollar weakens</th>\n",
              "      <th>Feds Evans Fed to raise rates after jobless peaks</th>\n",
              "      <th>Feds Fisher no plan in mind for velocity of rate hikes</th>\n",
              "      <th>Kraft plays down talk of higher Cadbury bid</th>\n",
              "      <th>Talbots posts narrower-than-expected loss</th>\n",
              "      <th>McDonalds same-store sales rise 2.2 percent</th>\n",
              "      <th>Oil at $70-$75 fine for all OPEC president</th>\n",
              "      <th>U.S. and U.K. Aaa ratings safe for now Moodys</th>\n",
              "      <th>Palm unveils Pixi phone may be overshadowed by rivals</th>\n",
              "      <th>Obama U.S. cant afford to extend tax cuts for rich</th>\n",
              "      <th>BP points fingers in oil spill blame game</th>\n",
              "      <th>Hurds Oracle hire package worth millions</th>\n",
              "      <th>BP happy to talk to Russian firms about asset sales</th>\n",
              "      <th>...</th>\n",
              "      <th>Nasdaq ICE bid to snatch NYSE from Germans</th>\n",
              "      <th>CEOs rancor may mark Nasdaq battle for NYSE</th>\n",
              "      <th>Japan plans to bail out stricken nuclear plant</th>\n",
              "      <th>Factbox Listing fees a tiny part of U.S. IPO cost</th>\n",
              "      <th>Ford increases CEOs pay 48 percent to $26.5 million</th>\n",
              "      <th>World factories buoyant as price pressures rising</th>\n",
              "      <th>Feds Dudley warns of over-optimism counters hawks</th>\n",
              "      <th>Barry Callebaut unfazed by Ivory Coast cocoa fears</th>\n",
              "      <th>Crisis-hit Portugal buys some time with bond sale</th>\n",
              "      <th>TPG sells 4.5 percent stake to sovereign funds source</th>\n",
              "      <th>Gas-sipping cars drive March sales gain</th>\n",
              "      <th>Icahn Dish bid for Blockbuster assets report</th>\n",
              "      <th>Analysis NYSE trading one regulatory headache for another</th>\n",
              "      <th>Stocks roar as Q2 begins euro oil up too</th>\n",
              "      <th>Far from quake Toyota Citys suppliers on life support</th>\n",
              "      <th>American Apparel says it may file for bankruptcy</th>\n",
              "      <th>Employers step up hiring jobless rate drops</th>\n",
              "      <th>Analysis Growth in temp jobs hints at wider recovery</th>\n",
              "      <th>Few U.S. traders pledge allegiance to Nasdaqs NYSE bid</th>\n",
              "      <th>Nasdaq sees scale but companies worry about choice</th>\n",
              "      <th>Busy China and India factories keep inflation aloft</th>\n",
              "      <th>Fitch says Portugal needs bailout while S&amp;P cuts Ireland</th>\n",
              "      <th>Boeing Turkish Airlines sign order for 15 planes</th>\n",
              "      <th>Paulson at $4.9 billion tops hedge fund earner list</th>\n",
              "      <th>Feds Dudley would be surprised if QE2 uncompleted</th>\n",
              "      <th>Nasdaq and ICE confident on financing NYSE bid source</th>\n",
              "      <th>Report critical of pay practices at Fannie Mae Freddie Mac</th>\n",
              "      <th>Morgan Stanley Goldman to recommend say on pay report</th>\n",
              "      <th>Toyota earnings hit but priority is Japan recovery</th>\n",
              "      <th>EU files tactical appeal in Boeing trade spat</th>\n",
              "      <th>Feds Dudley sees no reason to reverse course</th>\n",
              "      <th>S&amp;P cuts Ireland Fitch in downgrade threat</th>\n",
              "      <th>Manufacturing growth slows prices jump</th>\n",
              "      <th>Feds Plosser raising rates in 2011 a possibility</th>\n",
              "      <th>Analysis Where are those jobs? Bars and hospitals</th>\n",
              "      <th>Instant View Employment jumps jobless rate falls</th>\n",
              "      <th>White House Jobs data shows improving economy</th>\n",
              "      <th>Instant View Nasdaq ICE make rival bid for NYSE Euronext</th>\n",
              "      <th>Instant View Factory activity growth steady in March</th>\n",
              "      <th>Ireland put on credit watch negative by Fitch</th>\n",
              "    </tr>\n",
              "  </thead>\n",
              "  <tbody>\n",
              "    <tr>\n",
              "      <th>0</th>\n",
              "      <td>-0.514145</td>\n",
              "      <td>-0.493392</td>\n",
              "      <td>-0.400243</td>\n",
              "      <td>-0.324121</td>\n",
              "      <td>-0.040907</td>\n",
              "      <td>0.009625</td>\n",
              "      <td>-0.159365</td>\n",
              "      <td>-0.031836</td>\n",
              "      <td>-0.418837</td>\n",
              "      <td>-0.310383</td>\n",
              "      <td>-0.131126</td>\n",
              "      <td>0.128235</td>\n",
              "      <td>-0.075897</td>\n",
              "      <td>-0.341810</td>\n",
              "      <td>-0.635923</td>\n",
              "      <td>0.182642</td>\n",
              "      <td>-0.042127</td>\n",
              "      <td>-0.087410</td>\n",
              "      <td>-0.295736</td>\n",
              "      <td>-0.062056</td>\n",
              "      <td>-0.226778</td>\n",
              "      <td>0.141127</td>\n",
              "      <td>-0.488160</td>\n",
              "      <td>-0.367172</td>\n",
              "      <td>-0.237360</td>\n",
              "      <td>-0.340806</td>\n",
              "      <td>-0.386092</td>\n",
              "      <td>-0.496307</td>\n",
              "      <td>-0.364280</td>\n",
              "      <td>-0.136744</td>\n",
              "      <td>-0.109828</td>\n",
              "      <td>-0.183400</td>\n",
              "      <td>-0.157906</td>\n",
              "      <td>-0.198685</td>\n",
              "      <td>-0.257309</td>\n",
              "      <td>0.030684</td>\n",
              "      <td>-0.197207</td>\n",
              "      <td>-0.327678</td>\n",
              "      <td>0.085159</td>\n",
              "      <td>-0.243315</td>\n",
              "      <td>...</td>\n",
              "      <td>0.000026</td>\n",
              "      <td>-0.011065</td>\n",
              "      <td>-0.172320</td>\n",
              "      <td>-0.202128</td>\n",
              "      <td>-0.142929</td>\n",
              "      <td>-0.130261</td>\n",
              "      <td>-0.192778</td>\n",
              "      <td>0.106914</td>\n",
              "      <td>-0.210233</td>\n",
              "      <td>-0.250381</td>\n",
              "      <td>0.057029</td>\n",
              "      <td>-0.259742</td>\n",
              "      <td>-0.279321</td>\n",
              "      <td>-0.112415</td>\n",
              "      <td>0.034967</td>\n",
              "      <td>-0.147055</td>\n",
              "      <td>-0.185570</td>\n",
              "      <td>-0.256105</td>\n",
              "      <td>-0.020323</td>\n",
              "      <td>-0.171426</td>\n",
              "      <td>-0.216113</td>\n",
              "      <td>-0.215989</td>\n",
              "      <td>0.151277</td>\n",
              "      <td>-0.344678</td>\n",
              "      <td>0.086644</td>\n",
              "      <td>-0.072241</td>\n",
              "      <td>-0.366330</td>\n",
              "      <td>-0.387943</td>\n",
              "      <td>-0.241365</td>\n",
              "      <td>-0.177073</td>\n",
              "      <td>-0.060575</td>\n",
              "      <td>-0.416343</td>\n",
              "      <td>-0.419659</td>\n",
              "      <td>-0.276820</td>\n",
              "      <td>0.035447</td>\n",
              "      <td>-0.292209</td>\n",
              "      <td>-0.257556</td>\n",
              "      <td>0.029733</td>\n",
              "      <td>0.002234</td>\n",
              "      <td>-0.359498</td>\n",
              "    </tr>\n",
              "    <tr>\n",
              "      <th>1</th>\n",
              "      <td>0.174522</td>\n",
              "      <td>0.276980</td>\n",
              "      <td>0.356768</td>\n",
              "      <td>0.243123</td>\n",
              "      <td>0.206511</td>\n",
              "      <td>0.101453</td>\n",
              "      <td>0.443588</td>\n",
              "      <td>0.088926</td>\n",
              "      <td>0.185797</td>\n",
              "      <td>0.332940</td>\n",
              "      <td>0.131129</td>\n",
              "      <td>0.116027</td>\n",
              "      <td>0.203437</td>\n",
              "      <td>0.432149</td>\n",
              "      <td>0.311574</td>\n",
              "      <td>0.204002</td>\n",
              "      <td>0.250026</td>\n",
              "      <td>0.291420</td>\n",
              "      <td>0.198806</td>\n",
              "      <td>0.125682</td>\n",
              "      <td>0.087053</td>\n",
              "      <td>0.238737</td>\n",
              "      <td>0.312550</td>\n",
              "      <td>0.021392</td>\n",
              "      <td>0.306887</td>\n",
              "      <td>0.346480</td>\n",
              "      <td>0.279819</td>\n",
              "      <td>0.015422</td>\n",
              "      <td>0.286760</td>\n",
              "      <td>0.221071</td>\n",
              "      <td>0.366975</td>\n",
              "      <td>0.474624</td>\n",
              "      <td>0.454879</td>\n",
              "      <td>0.125041</td>\n",
              "      <td>0.152459</td>\n",
              "      <td>0.127117</td>\n",
              "      <td>0.049478</td>\n",
              "      <td>-0.078841</td>\n",
              "      <td>0.022768</td>\n",
              "      <td>0.237716</td>\n",
              "      <td>...</td>\n",
              "      <td>-0.099645</td>\n",
              "      <td>-0.030151</td>\n",
              "      <td>0.003955</td>\n",
              "      <td>0.051449</td>\n",
              "      <td>0.502674</td>\n",
              "      <td>0.323216</td>\n",
              "      <td>0.040887</td>\n",
              "      <td>-0.035637</td>\n",
              "      <td>0.241556</td>\n",
              "      <td>0.131085</td>\n",
              "      <td>0.279017</td>\n",
              "      <td>-0.011711</td>\n",
              "      <td>0.046714</td>\n",
              "      <td>0.097444</td>\n",
              "      <td>0.097111</td>\n",
              "      <td>0.182133</td>\n",
              "      <td>0.311853</td>\n",
              "      <td>0.329590</td>\n",
              "      <td>-0.149219</td>\n",
              "      <td>0.254390</td>\n",
              "      <td>0.071626</td>\n",
              "      <td>0.233808</td>\n",
              "      <td>0.017649</td>\n",
              "      <td>0.264187</td>\n",
              "      <td>-0.026744</td>\n",
              "      <td>0.048588</td>\n",
              "      <td>0.140298</td>\n",
              "      <td>0.293937</td>\n",
              "      <td>0.342569</td>\n",
              "      <td>-0.066935</td>\n",
              "      <td>0.034251</td>\n",
              "      <td>0.221394</td>\n",
              "      <td>0.495343</td>\n",
              "      <td>0.157560</td>\n",
              "      <td>0.017218</td>\n",
              "      <td>0.255161</td>\n",
              "      <td>0.196569</td>\n",
              "      <td>-0.127501</td>\n",
              "      <td>0.343369</td>\n",
              "      <td>0.166237</td>\n",
              "    </tr>\n",
              "    <tr>\n",
              "      <th>2</th>\n",
              "      <td>0.056844</td>\n",
              "      <td>-0.069496</td>\n",
              "      <td>0.031805</td>\n",
              "      <td>0.091076</td>\n",
              "      <td>-0.044236</td>\n",
              "      <td>0.135755</td>\n",
              "      <td>-0.260386</td>\n",
              "      <td>0.088039</td>\n",
              "      <td>0.286964</td>\n",
              "      <td>0.195338</td>\n",
              "      <td>-0.063246</td>\n",
              "      <td>0.143861</td>\n",
              "      <td>-0.107566</td>\n",
              "      <td>-0.249737</td>\n",
              "      <td>-0.046642</td>\n",
              "      <td>-0.028889</td>\n",
              "      <td>-0.047469</td>\n",
              "      <td>-0.022599</td>\n",
              "      <td>0.108182</td>\n",
              "      <td>-0.023206</td>\n",
              "      <td>0.402479</td>\n",
              "      <td>-0.052676</td>\n",
              "      <td>-0.135333</td>\n",
              "      <td>0.049083</td>\n",
              "      <td>-0.232360</td>\n",
              "      <td>-0.236844</td>\n",
              "      <td>-0.026070</td>\n",
              "      <td>0.213457</td>\n",
              "      <td>-0.095201</td>\n",
              "      <td>-0.177653</td>\n",
              "      <td>0.026869</td>\n",
              "      <td>-0.262341</td>\n",
              "      <td>0.028171</td>\n",
              "      <td>0.212813</td>\n",
              "      <td>-0.120979</td>\n",
              "      <td>0.074273</td>\n",
              "      <td>0.074946</td>\n",
              "      <td>0.037817</td>\n",
              "      <td>0.116765</td>\n",
              "      <td>-0.189818</td>\n",
              "      <td>...</td>\n",
              "      <td>0.012990</td>\n",
              "      <td>0.181590</td>\n",
              "      <td>-0.090360</td>\n",
              "      <td>0.057724</td>\n",
              "      <td>0.188269</td>\n",
              "      <td>0.167099</td>\n",
              "      <td>0.045716</td>\n",
              "      <td>0.122289</td>\n",
              "      <td>-0.020745</td>\n",
              "      <td>0.178786</td>\n",
              "      <td>0.114147</td>\n",
              "      <td>0.092201</td>\n",
              "      <td>-0.130176</td>\n",
              "      <td>0.026093</td>\n",
              "      <td>-0.053052</td>\n",
              "      <td>-0.069755</td>\n",
              "      <td>-0.158156</td>\n",
              "      <td>0.010231</td>\n",
              "      <td>0.026354</td>\n",
              "      <td>-0.127858</td>\n",
              "      <td>0.076790</td>\n",
              "      <td>-0.013725</td>\n",
              "      <td>0.161352</td>\n",
              "      <td>0.149158</td>\n",
              "      <td>-0.159379</td>\n",
              "      <td>-0.037944</td>\n",
              "      <td>0.000564</td>\n",
              "      <td>-0.229658</td>\n",
              "      <td>-0.081085</td>\n",
              "      <td>0.105660</td>\n",
              "      <td>-0.142598</td>\n",
              "      <td>0.003660</td>\n",
              "      <td>0.119212</td>\n",
              "      <td>-0.072812</td>\n",
              "      <td>-0.075717</td>\n",
              "      <td>-0.155405</td>\n",
              "      <td>0.039514</td>\n",
              "      <td>-0.019231</td>\n",
              "      <td>0.001395</td>\n",
              "      <td>-0.241063</td>\n",
              "    </tr>\n",
              "    <tr>\n",
              "      <th>3</th>\n",
              "      <td>0.106871</td>\n",
              "      <td>0.209700</td>\n",
              "      <td>0.023467</td>\n",
              "      <td>-0.002754</td>\n",
              "      <td>-0.007119</td>\n",
              "      <td>0.044132</td>\n",
              "      <td>0.231129</td>\n",
              "      <td>0.100524</td>\n",
              "      <td>0.345942</td>\n",
              "      <td>-0.039529</td>\n",
              "      <td>-0.088712</td>\n",
              "      <td>0.084786</td>\n",
              "      <td>0.038549</td>\n",
              "      <td>-0.108628</td>\n",
              "      <td>0.008832</td>\n",
              "      <td>-0.354269</td>\n",
              "      <td>0.039202</td>\n",
              "      <td>-0.086984</td>\n",
              "      <td>0.015608</td>\n",
              "      <td>0.093016</td>\n",
              "      <td>0.093508</td>\n",
              "      <td>-0.300825</td>\n",
              "      <td>0.115484</td>\n",
              "      <td>0.123374</td>\n",
              "      <td>-0.131265</td>\n",
              "      <td>-0.267154</td>\n",
              "      <td>0.023122</td>\n",
              "      <td>0.063391</td>\n",
              "      <td>-0.047400</td>\n",
              "      <td>-0.133103</td>\n",
              "      <td>-0.047262</td>\n",
              "      <td>0.292455</td>\n",
              "      <td>0.019089</td>\n",
              "      <td>-0.084057</td>\n",
              "      <td>-0.209706</td>\n",
              "      <td>0.005837</td>\n",
              "      <td>-0.162866</td>\n",
              "      <td>-0.052167</td>\n",
              "      <td>-0.068909</td>\n",
              "      <td>0.102817</td>\n",
              "      <td>...</td>\n",
              "      <td>0.117511</td>\n",
              "      <td>-0.049913</td>\n",
              "      <td>0.081937</td>\n",
              "      <td>0.046314</td>\n",
              "      <td>-0.188640</td>\n",
              "      <td>-0.046519</td>\n",
              "      <td>-0.104593</td>\n",
              "      <td>0.011834</td>\n",
              "      <td>0.135225</td>\n",
              "      <td>0.047732</td>\n",
              "      <td>0.021855</td>\n",
              "      <td>0.046673</td>\n",
              "      <td>0.085457</td>\n",
              "      <td>0.051784</td>\n",
              "      <td>-0.053201</td>\n",
              "      <td>-0.126532</td>\n",
              "      <td>0.009335</td>\n",
              "      <td>-0.002765</td>\n",
              "      <td>0.079398</td>\n",
              "      <td>-0.172435</td>\n",
              "      <td>-0.197640</td>\n",
              "      <td>0.017306</td>\n",
              "      <td>0.052137</td>\n",
              "      <td>-0.134248</td>\n",
              "      <td>-0.094698</td>\n",
              "      <td>0.100228</td>\n",
              "      <td>0.234331</td>\n",
              "      <td>-0.005877</td>\n",
              "      <td>-0.019286</td>\n",
              "      <td>-0.128386</td>\n",
              "      <td>-0.049933</td>\n",
              "      <td>0.036474</td>\n",
              "      <td>-0.169206</td>\n",
              "      <td>0.037563</td>\n",
              "      <td>-0.307367</td>\n",
              "      <td>-0.029102</td>\n",
              "      <td>-0.190284</td>\n",
              "      <td>-0.047832</td>\n",
              "      <td>0.043073</td>\n",
              "      <td>0.006941</td>\n",
              "    </tr>\n",
              "    <tr>\n",
              "      <th>4</th>\n",
              "      <td>-0.141203</td>\n",
              "      <td>0.034401</td>\n",
              "      <td>0.155958</td>\n",
              "      <td>0.220323</td>\n",
              "      <td>0.002719</td>\n",
              "      <td>0.017224</td>\n",
              "      <td>-0.169423</td>\n",
              "      <td>-0.255795</td>\n",
              "      <td>-0.104778</td>\n",
              "      <td>0.035423</td>\n",
              "      <td>0.091088</td>\n",
              "      <td>-0.211726</td>\n",
              "      <td>0.083281</td>\n",
              "      <td>0.021794</td>\n",
              "      <td>-0.145369</td>\n",
              "      <td>0.247389</td>\n",
              "      <td>0.065055</td>\n",
              "      <td>0.063270</td>\n",
              "      <td>-0.011432</td>\n",
              "      <td>0.109639</td>\n",
              "      <td>0.030773</td>\n",
              "      <td>0.281493</td>\n",
              "      <td>0.037469</td>\n",
              "      <td>-0.117629</td>\n",
              "      <td>-0.042824</td>\n",
              "      <td>-0.142463</td>\n",
              "      <td>-0.020810</td>\n",
              "      <td>-0.006671</td>\n",
              "      <td>-0.125368</td>\n",
              "      <td>-0.085715</td>\n",
              "      <td>-0.003434</td>\n",
              "      <td>-0.078839</td>\n",
              "      <td>0.217217</td>\n",
              "      <td>-0.010236</td>\n",
              "      <td>0.127314</td>\n",
              "      <td>0.077855</td>\n",
              "      <td>-0.050879</td>\n",
              "      <td>-0.003708</td>\n",
              "      <td>0.136413</td>\n",
              "      <td>0.148071</td>\n",
              "      <td>...</td>\n",
              "      <td>0.039253</td>\n",
              "      <td>0.005546</td>\n",
              "      <td>-0.075230</td>\n",
              "      <td>0.123190</td>\n",
              "      <td>-0.040726</td>\n",
              "      <td>0.122426</td>\n",
              "      <td>0.041587</td>\n",
              "      <td>-0.174137</td>\n",
              "      <td>0.122975</td>\n",
              "      <td>-0.077080</td>\n",
              "      <td>0.117390</td>\n",
              "      <td>-0.084491</td>\n",
              "      <td>0.069874</td>\n",
              "      <td>0.123401</td>\n",
              "      <td>0.138071</td>\n",
              "      <td>0.147216</td>\n",
              "      <td>-0.020840</td>\n",
              "      <td>0.067473</td>\n",
              "      <td>0.067074</td>\n",
              "      <td>0.091982</td>\n",
              "      <td>0.170706</td>\n",
              "      <td>0.164925</td>\n",
              "      <td>0.243924</td>\n",
              "      <td>0.047418</td>\n",
              "      <td>-0.092023</td>\n",
              "      <td>0.098713</td>\n",
              "      <td>-0.175873</td>\n",
              "      <td>-0.029602</td>\n",
              "      <td>0.178671</td>\n",
              "      <td>0.177959</td>\n",
              "      <td>0.023026</td>\n",
              "      <td>0.192943</td>\n",
              "      <td>0.167406</td>\n",
              "      <td>-0.021208</td>\n",
              "      <td>0.240030</td>\n",
              "      <td>0.074470</td>\n",
              "      <td>-0.065008</td>\n",
              "      <td>0.139942</td>\n",
              "      <td>0.125592</td>\n",
              "      <td>0.074610</td>\n",
              "    </tr>\n",
              "  </tbody>\n",
              "</table>\n",
              "<p>5 rows × 98272 columns</p>\n",
              "</div>"
            ],
            "text/plain": [
              "   Goldman CEO warns against regulatory overkill  ...  Ireland put on credit watch negative by Fitch\n",
              "0                                      -0.514145  ...                                      -0.359498\n",
              "1                                       0.174522  ...                                       0.166237\n",
              "2                                       0.056844  ...                                      -0.241063\n",
              "3                                       0.106871  ...                                       0.006941\n",
              "4                                      -0.141203  ...                                       0.074610\n",
              "\n",
              "[5 rows x 98272 columns]"
            ]
          },
          "metadata": {
            "tags": []
          },
          "execution_count": 27
        }
      ]
    },
    {
      "cell_type": "code",
      "metadata": {
        "id": "dBRpg5ND22NY"
      },
      "source": [
        "Headlines_to_vector_transposed = Headlines_to_vector.T"
      ],
      "execution_count": null,
      "outputs": []
    },
    {
      "cell_type": "code",
      "metadata": {
        "id": "DtQWuPCx2Lso"
      },
      "source": [
        "Data_Article_Headline[Data_Article_Headline.Headline.str.contains('Goldman')].sort_values(by='Date')"
      ],
      "execution_count": null,
      "outputs": []
    },
    {
      "cell_type": "code",
      "metadata": {
        "colab": {
          "base_uri": "https://localhost:8080/"
        },
        "id": "kmz79SE2k9vu",
        "outputId": "19906d18-81c1-43da-8519-50eb4c9ca353"
      },
      "source": [
        "Headlines_to_vector.to_numpy()"
      ],
      "execution_count": null,
      "outputs": [
        {
          "output_type": "execute_result",
          "data": {
            "text/plain": [
              "array([[-0.51414496, -0.49339166, -0.40024266, ...,  0.02973291,\n",
              "         0.00223434, -0.3594976 ],\n",
              "       [ 0.17452198,  0.27698   ,  0.35676786, ..., -0.1275007 ,\n",
              "         0.34336877,  0.16623664],\n",
              "       [ 0.05684367, -0.06949583,  0.0318045 , ..., -0.0192307 ,\n",
              "         0.00139462, -0.24106263],\n",
              "       ...,\n",
              "       [ 0.05386165, -0.22550501, -0.40018198, ..., -0.26053688,\n",
              "         0.05911237, -0.01042075],\n",
              "       [-0.02591332,  0.016601  ,  0.18241817, ..., -0.057705  ,\n",
              "        -0.1456455 , -0.17169337],\n",
              "       [ 0.06801099, -0.05191733, -0.07230403, ...,  0.309778  ,\n",
              "         0.15916689,  0.17444113]], dtype=float32)"
            ]
          },
          "metadata": {
            "tags": []
          },
          "execution_count": 30
        }
      ]
    },
    {
      "cell_type": "code",
      "metadata": {
        "colab": {
          "base_uri": "https://localhost:8080/",
          "height": 929
        },
        "id": "oxfJR8mDgn3p",
        "outputId": "47101aca-bf76-4eb5-e258-1c075033b172"
      },
      "source": [
        "from sklearn.cluster import KMeans\n",
        "import numpy as np\n",
        "x_cols = Headlines_to_vector_transposed.to_numpy()\n",
        "S =[]\n",
        "cluster_assignment = {}\n",
        "for k in range(2,37):\n",
        "    print(\"This is cluster{}\".format(k))\n",
        "    model = KMeans(n_clusters=k)\n",
        "    fitted = model.fit(x_cols)\n",
        "    predict = fitted.predict(x_cols)## points belonging to which cluster\n",
        "    centers = model.cluster_centers_\n",
        "    center_cluster = centers[predict]## To which cluster center belongs too\n",
        "    S.append(np.sum((x_cols-center_cluster)**2))## Get the SS for the current value of 'k'\n",
        "    cluster_assignment[str(k)]=predict\n",
        "plt.figure(figsize=(10,5))\n",
        "plt.plot(range(2,37),S)\n",
        "plt.ylabel(r'Sum-of-squares error')\n",
        "plt.xlabel(r'Number of clusters (K)')\n",
        "plt.show()"
      ],
      "execution_count": null,
      "outputs": [
        {
          "output_type": "stream",
          "text": [
            "This is cluster2\n",
            "This is cluster3\n",
            "This is cluster4\n",
            "This is cluster5\n",
            "This is cluster6\n",
            "This is cluster7\n",
            "This is cluster8\n",
            "This is cluster9\n",
            "This is cluster10\n",
            "This is cluster11\n",
            "This is cluster12\n",
            "This is cluster13\n",
            "This is cluster14\n",
            "This is cluster15\n",
            "This is cluster16\n",
            "This is cluster17\n",
            "This is cluster18\n",
            "This is cluster19\n",
            "This is cluster20\n",
            "This is cluster21\n",
            "This is cluster22\n",
            "This is cluster23\n",
            "This is cluster24\n",
            "This is cluster25\n",
            "This is cluster26\n",
            "This is cluster27\n",
            "This is cluster28\n",
            "This is cluster29\n",
            "This is cluster30\n",
            "This is cluster31\n",
            "This is cluster32\n",
            "This is cluster33\n",
            "This is cluster34\n",
            "This is cluster35\n",
            "This is cluster36\n"
          ],
          "name": "stdout"
        },
        {
          "output_type": "display_data",
          "data": {
            "image/png": "[encoded data removed]",
            "text/plain": [
              "<Figure size 720x360 with 1 Axes>"
            ]
          },
          "metadata": {
            "tags": [],
            "needs_background": "light"
          }
        }
      ]
    },
    {
      "cell_type": "code",
      "metadata": {
        "colab": {
          "base_uri": "https://localhost:8080/",
          "height": 334
        },
        "id": "4VKrCjpaoVF2",
        "outputId": "486d5502-f444-48fe-cfde-c66377e1ed0f"
      },
      "source": [
        "plt.figure(figsize=(10,5))\n",
        "plt.axvline(25,color='red')\n",
        "plt.plot(range(2,len(S)+2),S)\n",
        "plt.ylabel(r'Sum-of-squares error')\n",
        "plt.xlabel(r'Number of clusters (K)')\n",
        "plt.show()"
      ],
      "execution_count": null,
      "outputs": [
        {
          "output_type": "display_data",
          "data": {
            "image/png": "[encoded data removed]",
            "text/plain": [
              "<Figure size 720x360 with 1 Axes>"
            ]
          },
          "metadata": {
            "tags": [],
            "needs_background": "light"
          }
        }
      ]
    },
    {
      "cell_type": "code",
      "metadata": {
        "id": "aKIS2RFY28Nr"
      },
      "source": [
        "from sklearn.cluster import KMeans\n",
        "from sklearn.decomposition import PCA\n",
        "sklearn_pca = PCA(n_components = 2)\n",
        "Y_sklearn = sklearn_pca.fit_transform(x_cols)\n",
        "kmeans = KMeans(n_clusters=10)\n",
        "fitted = kmeans.fit(Y_sklearn)\n",
        "prediction = kmeans.predict(Y_sklearn)"
      ],
      "execution_count": null,
      "outputs": []
    },
    {
      "cell_type": "code",
      "metadata": {
        "colab": {
          "base_uri": "https://localhost:8080/",
          "height": 282
        },
        "id": "rgbxim6AtGOB",
        "outputId": "a7042000-32b3-4d56-fe19-852dc8380a18"
      },
      "source": [
        "plt.plot(sklearn_pca.explained_variance_)"
      ],
      "execution_count": null,
      "outputs": [
        {
          "output_type": "execute_result",
          "data": {
            "text/plain": [
              "[<matplotlib.lines.Line2D at 0x7ef77bcd2048>]"
            ]
          },
          "metadata": {
            "tags": []
          },
          "execution_count": 108
        },
        {
          "output_type": "display_data",
          "data": {
            "image/png": "[encoded data removed]",
            "text/plain": [
              "<Figure size 432x288 with 1 Axes>"
            ]
          },
          "metadata": {
            "tags": [],
            "needs_background": "light"
          }
        }
      ]
    },
    {
      "cell_type": "code",
      "metadata": {
        "colab": {
          "base_uri": "https://localhost:8080/",
          "height": 282
        },
        "id": "YlgcRixQ8nh4",
        "outputId": "c181196e-a845-45bd-e153-388389c1f87c"
      },
      "source": [
        "plt.scatter(Y_sklearn[:, 0], Y_sklearn[:, 1], c=prediction, s=0.2, cmap='jet')"
      ],
      "execution_count": null,
      "outputs": [
        {
          "output_type": "execute_result",
          "data": {
            "text/plain": [
              "<matplotlib.collections.PathCollection at 0x7ef77bb6cda0>"
            ]
          },
          "metadata": {
            "tags": []
          },
          "execution_count": 113
        },
        {
          "output_type": "display_data",
          "data": {
            "image/png": "[encoded data removed]",
            "text/plain": [
              "<Figure size 432x288 with 1 Axes>"
            ]
          },
          "metadata": {
            "tags": [],
            "needs_background": "light"
          }
        }
      ]
    },
    {
      "cell_type": "code",
      "metadata": {
        "id": "ZfUGNUQ4wir0"
      },
      "source": [
        "kmeans = KMeans(n_clusters=25)\n",
        "fitted = kmeans.fit(x_cols)\n",
        "prediction = kmeans.predict(x_cols)"
      ],
      "execution_count": null,
      "outputs": []
    },
    {
      "cell_type": "code",
      "metadata": {
        "id": "5EbOM_7nuCxZ"
      },
      "source": [
        "result = zip(kmeans.labels_,Headlines_to_vector_transposed.index )"
      ],
      "execution_count": null,
      "outputs": []
    },
    {
      "cell_type": "code",
      "metadata": {
        "id": "kSW3VbAkv3fO"
      },
      "source": [
        "ABC = list(result)"
      ],
      "execution_count": null,
      "outputs": []
    },
    {
      "cell_type": "code",
      "metadata": {
        "id": "QkNeG-8nwa8R"
      },
      "source": [
        ""
      ],
      "execution_count": null,
      "outputs": []
    },
    {
      "cell_type": "code",
      "metadata": {
        "colab": {
          "base_uri": "https://localhost:8080/"
        },
        "id": "0riuqZ0ywSnp",
        "outputId": "2592db19-622e-41db-8549-790e876763be"
      },
      "source": [
        "ABC[0][0].shape"
      ],
      "execution_count": null,
      "outputs": [
        {
          "output_type": "execute_result",
          "data": {
            "text/plain": [
              "(300,)"
            ]
          },
          "metadata": {
            "tags": []
          },
          "execution_count": 47
        }
      ]
    },
    {
      "cell_type": "code",
      "metadata": {
        "id": "fVkEevoXU49v"
      },
      "source": [
        "DataFrame = pd.DataFrame({'label':kmeans.labels_,'sent':list(Vector.keys())})"
      ],
      "execution_count": null,
      "outputs": []
    },
    {
      "cell_type": "code",
      "metadata": {
        "colab": {
          "base_uri": "https://localhost:8080/",
          "height": 419
        },
        "id": "xPHLV0hPuMZx",
        "outputId": "7d48f9b1-7d8d-4b8a-f0d3-c802d703059e"
      },
      "source": [
        "DataFrame[DataFrame['label']==5]"
      ],
      "execution_count": null,
      "outputs": [
        {
          "output_type": "execute_result",
          "data": {
            "text/html": [
              "<div>\n",
              "<style scoped>\n",
              "    .dataframe tbody tr th:only-of-type {\n",
              "        vertical-align: middle;\n",
              "    }\n",
              "\n",
              "    .dataframe tbody tr th {\n",
              "        vertical-align: top;\n",
              "    }\n",
              "\n",
              "    .dataframe thead th {\n",
              "        text-align: right;\n",
              "    }\n",
              "</style>\n",
              "<table border=\"1\" class=\"dataframe\">\n",
              "  <thead>\n",
              "    <tr style=\"text-align: right;\">\n",
              "      <th></th>\n",
              "      <th>label</th>\n",
              "      <th>sent</th>\n",
              "    </tr>\n",
              "  </thead>\n",
              "  <tbody>\n",
              "    <tr>\n",
              "      <th>16</th>\n",
              "      <td>5</td>\n",
              "      <td>Wall Street closes up S&amp;P posts highest 09 finish</td>\n",
              "    </tr>\n",
              "    <tr>\n",
              "      <th>43</th>\n",
              "      <td>5</td>\n",
              "      <td>Wall Street climbs in low-volume session</td>\n",
              "    </tr>\n",
              "    <tr>\n",
              "      <th>97</th>\n",
              "      <td>5</td>\n",
              "      <td>Wall Street jumps as Europe debt concerns ease</td>\n",
              "    </tr>\n",
              "    <tr>\n",
              "      <th>168</th>\n",
              "      <td>5</td>\n",
              "      <td>Wall Street treads water stays on ECB watch</td>\n",
              "    </tr>\n",
              "    <tr>\n",
              "      <th>269</th>\n",
              "      <td>5</td>\n",
              "      <td>Wall Street up as automakers tech shares gain</td>\n",
              "    </tr>\n",
              "    <tr>\n",
              "      <th>...</th>\n",
              "      <td>...</td>\n",
              "      <td>...</td>\n",
              "    </tr>\n",
              "    <tr>\n",
              "      <th>97990</th>\n",
              "      <td>5</td>\n",
              "      <td>Wall Street rises on economic data but minefie...</td>\n",
              "    </tr>\n",
              "    <tr>\n",
              "      <th>98060</th>\n",
              "      <td>5</td>\n",
              "      <td>Wall Street ends worst two weeks since November</td>\n",
              "    </tr>\n",
              "    <tr>\n",
              "      <th>98090</th>\n",
              "      <td>5</td>\n",
              "      <td>Former banker relates Wall St high jinks</td>\n",
              "    </tr>\n",
              "    <tr>\n",
              "      <th>98142</th>\n",
              "      <td>5</td>\n",
              "      <td>Wall Street ends down but indexes notch sharp ...</td>\n",
              "    </tr>\n",
              "    <tr>\n",
              "      <th>98177</th>\n",
              "      <td>5</td>\n",
              "      <td>Wall St. slumps on GE results recession fears</td>\n",
              "    </tr>\n",
              "  </tbody>\n",
              "</table>\n",
              "<p>2076 rows × 2 columns</p>\n",
              "</div>"
            ],
            "text/plain": [
              "       label                                               sent\n",
              "16         5  Wall Street closes up S&P posts highest 09 finish\n",
              "43         5           Wall Street climbs in low-volume session\n",
              "97         5     Wall Street jumps as Europe debt concerns ease\n",
              "168        5        Wall Street treads water stays on ECB watch\n",
              "269        5      Wall Street up as automakers tech shares gain\n",
              "...      ...                                                ...\n",
              "97990      5  Wall Street rises on economic data but minefie...\n",
              "98060      5    Wall Street ends worst two weeks since November\n",
              "98090      5           Former banker relates Wall St high jinks\n",
              "98142      5  Wall Street ends down but indexes notch sharp ...\n",
              "98177      5      Wall St. slumps on GE results recession fears\n",
              "\n",
              "[2076 rows x 2 columns]"
            ]
          },
          "metadata": {
            "tags": []
          },
          "execution_count": 130
        }
      ]
    },
    {
      "cell_type": "code",
      "metadata": {
        "id": "CqeIBWL1sz9w"
      },
      "source": [
        "DataFrame_2 = pd.DataFrame(dict(result),index=[0])"
      ],
      "execution_count": null,
      "outputs": []
    },
    {
      "cell_type": "code",
      "metadata": {
        "id": "2L8geCrPuBOM"
      },
      "source": [
        "melt=DataFrame_2.melt()"
      ],
      "execution_count": null,
      "outputs": []
    },
    {
      "cell_type": "code",
      "metadata": {
        "id": "xhsU9S4Tvrad",
        "colab": {
          "base_uri": "https://localhost:8080/",
          "height": 219
        },
        "outputId": "55e3ad30-8409-4dc2-9aba-ee44d4e517d8"
      },
      "source": [
        "DataFrame_2"
      ],
      "execution_count": null,
      "outputs": [
        {
          "output_type": "execute_result",
          "data": {
            "text/html": [
              "<div>\n",
              "<style scoped>\n",
              "    .dataframe tbody tr th:only-of-type {\n",
              "        vertical-align: middle;\n",
              "    }\n",
              "\n",
              "    .dataframe tbody tr th {\n",
              "        vertical-align: top;\n",
              "    }\n",
              "\n",
              "    .dataframe thead th {\n",
              "        text-align: right;\n",
              "    }\n",
              "</style>\n",
              "<table border=\"1\" class=\"dataframe\">\n",
              "  <thead>\n",
              "    <tr style=\"text-align: right;\">\n",
              "      <th></th>\n",
              "      <th>19</th>\n",
              "      <th>10</th>\n",
              "      <th>9</th>\n",
              "      <th>34</th>\n",
              "      <th>12</th>\n",
              "      <th>21</th>\n",
              "      <th>11</th>\n",
              "      <th>33</th>\n",
              "      <th>3</th>\n",
              "      <th>5</th>\n",
              "      <th>15</th>\n",
              "      <th>4</th>\n",
              "      <th>24</th>\n",
              "      <th>14</th>\n",
              "      <th>8</th>\n",
              "      <th>28</th>\n",
              "      <th>23</th>\n",
              "      <th>29</th>\n",
              "      <th>17</th>\n",
              "      <th>18</th>\n",
              "      <th>30</th>\n",
              "      <th>6</th>\n",
              "      <th>1</th>\n",
              "      <th>0</th>\n",
              "      <th>26</th>\n",
              "      <th>13</th>\n",
              "      <th>31</th>\n",
              "      <th>22</th>\n",
              "      <th>32</th>\n",
              "      <th>25</th>\n",
              "      <th>20</th>\n",
              "      <th>7</th>\n",
              "      <th>27</th>\n",
              "      <th>2</th>\n",
              "      <th>16</th>\n",
              "    </tr>\n",
              "  </thead>\n",
              "  <tbody>\n",
              "    <tr>\n",
              "      <th>0</th>\n",
              "      <td>Cott in merger talks with Cadbury WSJ says</td>\n",
              "      <td>Employers step up hiring jobless rate drops</td>\n",
              "      <td>Ford increases CEOs pay 48 percent to $26.5 mi...</td>\n",
              "      <td>Analysis Where are those jobs? Bars and hospitals</td>\n",
              "      <td>Ireland put on credit watch negative by Fitch</td>\n",
              "      <td>TPG sells 4.5 percent stake to sovereign funds...</td>\n",
              "      <td>Trade gap narrows unexpectedly</td>\n",
              "      <td>Report critical of pay practices at Fannie Mae...</td>\n",
              "      <td>WaMu sees $140-180 mln restructuring charge</td>\n",
              "      <td>Instant View Employment jumps jobless rate falls</td>\n",
              "      <td>Factbox Listing fees a tiny part of U.S. IPO cost</td>\n",
              "      <td>Sokol affair credit negative for Berkshire Moodys</td>\n",
              "      <td>Morgan Stanley Goldman to recommend say on pay...</td>\n",
              "      <td>CEOs rancor may mark Nasdaq battle for NYSE</td>\n",
              "      <td>Feds Plosser raising rates in 2011 a possibility</td>\n",
              "      <td>Nasdaq sees scale but companies worry about ch...</td>\n",
              "      <td>Even in a rough economy GE miss jars confidence</td>\n",
              "      <td>Feds Dudley sees no reason to reverse course</td>\n",
              "      <td>Manufacturing growth slows prices jump</td>\n",
              "      <td>Toyota earnings hit but priority is Japan reco...</td>\n",
              "      <td>Fitch says Portugal needs bailout while S&amp;P cu...</td>\n",
              "      <td>FDIC sets up bank to resolve failed New Frontier</td>\n",
              "      <td>Busy China and India factories keep inflation ...</td>\n",
              "      <td>American Apparel says it may file for bankruptcy</td>\n",
              "      <td>Nasdaq and ICE confident on financing NYSE bid...</td>\n",
              "      <td>Instant View Factory activity growth steady in...</td>\n",
              "      <td>Stocks roar as Q2 begins euro oil up too</td>\n",
              "      <td>Goldman CEO awarded $14.12 million compensatio...</td>\n",
              "      <td>Data breach hits JPMorgan Kroger customers</td>\n",
              "      <td>Carl Icahn unwinding Blockbuster stake</td>\n",
              "      <td>G7 says protracted market turmoil saps outlook</td>\n",
              "      <td>Barry Callebaut unfazed by Ivory Coast cocoa f...</td>\n",
              "      <td>EU files tactical appeal in Boeing trade spat</td>\n",
              "      <td>Instant View Nasdaq ICE make rival bid for NYS...</td>\n",
              "      <td>Paulson at $4.9 billion tops hedge fund earner...</td>\n",
              "    </tr>\n",
              "  </tbody>\n",
              "</table>\n",
              "</div>"
            ],
            "text/plain": [
              "                                           19  ...                                                 16\n",
              "0  Cott in merger talks with Cadbury WSJ says  ...  Paulson at $4.9 billion tops hedge fund earner...\n",
              "\n",
              "[1 rows x 35 columns]"
            ]
          },
          "metadata": {
            "tags": []
          },
          "execution_count": 101
        }
      ]
    }
  ]
}