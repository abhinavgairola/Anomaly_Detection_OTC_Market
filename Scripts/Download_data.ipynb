{
  "nbformat": 4,
  "nbformat_minor": 0,
  "metadata": {
    "colab": {
      "name": "Download_data.ipynb",
      "provenance": [],
      "collapsed_sections": [],
      "machine_shape": "hm",
      "authorship_tag": "ABX9TyOw0vj93BckJZ6l8NsXupt6",
      "include_colab_link": true
    },
    "kernelspec": {
      "name": "python3",
      "display_name": "Python 3"
    },
    "language_info": {
      "name": "python"
    },
    "accelerator": "GPU"
  },
  "cells": [
    {
      "cell_type": "markdown",
      "metadata": {
        "id": "view-in-github",
        "colab_type": "text"
      },
      "source": [
        "<a href=\"https://colab.research.google.com/github/abhinavgairola/Anomaly_Detection_OTC_Market/blob/main/Scripts/Download_data.ipynb\" target=\"_parent\"><img src=\"https://colab.research.google.com/assets/colab-badge.svg\" alt=\"Open In Colab\"/></a>"
      ]
    },
    {
      "cell_type": "markdown",
      "metadata": {
        "id": "td0Ib5syGUE0"
      },
      "source": [
        "## Read the tweets from downloaded json files and store it into a leaner format in a parquet file."
      ]
    },
    {
      "cell_type": "code",
      "metadata": {
        "colab": {
          "base_uri": "https://localhost:8080/"
        },
        "id": "0cTq8kgjh-fy",
        "outputId": "87e8089d-57a5-4a55-ebfc-0b8e27fa29ce"
      },
      "source": [
        "import pandas_datareader as pdr\n",
        "import pandas as pd\n",
        "import datetime\n",
        "import matplotlib.pyplot as mp\n",
        "import re\n",
        "import json\n",
        "from google.colab import drive\n",
        "drive.mount('/content/drive')\n",
        "import csv\n",
        "import pyarrow as pa"
      ],
      "execution_count": 1,
      "outputs": [
        {
          "output_type": "stream",
          "text": [
            "Drive already mounted at /content/drive; to attempt to forcibly remount, call drive.mount(\"/content/drive\", force_remount=True).\n"
          ],
          "name": "stdout"
        }
      ]
    },
    {
      "cell_type": "code",
      "metadata": {
        "colab": {
          "base_uri": "https://localhost:8080/"
        },
        "id": "8obGRS_tixQR",
        "outputId": "f427b986-094b-4c54-9ce6-29d6dd45c4d4"
      },
      "source": [
        "!pwd"
      ],
      "execution_count": 2,
      "outputs": [
        {
          "output_type": "stream",
          "text": [
            "/content\n"
          ],
          "name": "stdout"
        }
      ]
    },
    {
      "cell_type": "code",
      "metadata": {
        "colab": {
          "base_uri": "https://localhost:8080/"
        },
        "id": "M-M-hi4Piy6u",
        "outputId": "4866c3a0-6728-4555-987d-3dc52478f499"
      },
      "source": [
        "%cd drive"
      ],
      "execution_count": 3,
      "outputs": [
        {
          "output_type": "stream",
          "text": [
            "/content/drive\n"
          ],
          "name": "stdout"
        }
      ]
    },
    {
      "cell_type": "code",
      "metadata": {
        "colab": {
          "base_uri": "https://localhost:8080/"
        },
        "id": "7gF-O3iIi4GI",
        "outputId": "fd4316d1-7758-47a3-a458-ded642459bb7"
      },
      "source": [
        "%cd MyDrive/OTCMKT/"
      ],
      "execution_count": 4,
      "outputs": [
        {
          "output_type": "stream",
          "text": [
            "/content/drive/MyDrive/OTCMKT\n"
          ],
          "name": "stdout"
        }
      ]
    },
    {
      "cell_type": "markdown",
      "metadata": {
        "id": "3s5_WXPPDicR"
      },
      "source": [
        ""
      ]
    },
    {
      "cell_type": "code",
      "metadata": {
        "colab": {
          "base_uri": "https://localhost:8080/"
        },
        "id": "WYJ4YQs4i9sW",
        "outputId": "b892d7b8-737a-4aa9-f30d-ed12c2183230"
      },
      "source": [
        "!ls"
      ],
      "execution_count": 5,
      "outputs": [
        {
          "output_type": "stream",
          "text": [
            "a2.html\t\t\t\t\t       OTC.png\n",
            "Adjusted_close_no_na.parquet.gzip\t       Stock_Screener.csv\n",
            "All_tweets_correct_format.parquet.gzip\t       Stocks_data_2.parquet.gzip\n",
            "All_tweets.json\t\t\t\t       Stocks_data_3.parquet.gzip\n",
            "All_tweet_stocks.csv\t\t\t       Stocks_data.parquet.gzip\n",
            "All_tweet_stocks.parquet.gzip\t\t       table.html\n",
            "All_tweets_with_emojis_with_punctuations.json  Tickers.txt\n",
            "Din_Condensed.ttf\t\t\t       Tweets_json\n",
            "Final_data.csv\t\t\t\t       Tweets.zip\n",
            "OTC2.jpeg\t\t\t\t       Word_Cloud_2.png\n",
            "OTC3.png\t\t\t\t       Word_Cloud.png\n",
            "OTC.jpeg\n"
          ],
          "name": "stdout"
        }
      ]
    },
    {
      "cell_type": "code",
      "metadata": {
        "id": "agwzfgiDi8pW"
      },
      "source": [
        "f = open('Stock_Screener.csv','r')\n",
        "Tickers = []\n",
        "for i,line in enumerate(f):\n",
        "  line_split = line.split(',')\n",
        "  #print(line_split)\n",
        "  if i !=0:\n",
        "    Tickers.append(line_split[0])\n",
        "#print(Tickers)"
      ],
      "execution_count": 27,
      "outputs": []
    },
    {
      "cell_type": "code",
      "metadata": {
        "colab": {
          "base_uri": "https://localhost:8080/"
        },
        "id": "_4w7qwCokUO2",
        "outputId": "1faa5378-bbed-4ed9-984e-8d242224789e"
      },
      "source": [
        "df = pd.read_csv('Stock_Screener.csv')\n",
        "#df = df[df['Change %']>1]\n",
        "df = df[df['Vol']>0]\n",
        "df_2=df.filter(items =['Symbol','Tier','Country','State','Change %','Vol','Price'])\n",
        "df_USA=df_2#[df_2['Country']=='USA']\n",
        "df_USA=df_USA.sort_values('Vol',ascending=False)\n",
        "#df_USA = df_USA[df_USA['Change %']]\n",
        "#df_USA['Tier'].unique()\n",
        "Tickers = df_USA['Symbol']\n",
        "Tickers=list(Tickers.values)\n",
        "list(df_USA.iloc[0:10:]['Country'].unique())"
      ],
      "execution_count": 26,
      "outputs": [
        {
          "output_type": "execute_result",
          "data": {
            "text/plain": [
              "['USA']"
            ]
          },
          "metadata": {
            "tags": []
          },
          "execution_count": 26
        }
      ]
    },
    {
      "cell_type": "code",
      "metadata": {
        "id": "Q1HFjcLsiK9e"
      },
      "source": [
        "new = pdr.data.DataReader(Tickers[0:1000],'yahoo',start='01/01/2016')#,end='04/10/2021')\n",
        "table = pa.Table.from_pandas(new)\n",
        "pa.parquet.write_table(table, '/content/drive/MyDrive/OTCMKT/Stocks_data_3.parquet.gzip')\n"
      ],
      "execution_count": 11,
      "outputs": []
    },
    {
      "cell_type": "code",
      "metadata": {
        "id": "uU75YQGmqEMw"
      },
      "source": [
        "df_stocks = pd.read_parquet('/content/drive/MyDrive/OTCMKT/Stocks_data_3.parquet.gzip')"
      ],
      "execution_count": 12,
      "outputs": []
    },
    {
      "cell_type": "code",
      "metadata": {
        "id": "PXo7pHaiCL7G"
      },
      "source": [
        "indexes = (df_stocks['Adj Close'].isnull().mean()<=0.5)\n",
        "indexes = (df_stocks['Adj Close'].isnull().mean()<=0.5)\n",
        "df_stocks_adjusted_close = (df_stocks['Adj Close'][df_stocks['Adj Close'].columns[indexes]]).fillna(0)\n",
        "df_stocks_adjusted_close\n",
        "table_adjusted = pa.Table.from_pandas(df_stocks_adjusted_close)\n",
        "pa.parquet.write_table(table_adjusted, '/content/drive/MyDrive/OTCMKT/Adjusted_close_no_na.parquet.gzip')"
      ],
      "execution_count": 13,
      "outputs": []
    },
    {
      "cell_type": "code",
      "metadata": {
        "id": "csflpAo26KLZ"
      },
      "source": [
        "#columns  = list(df_stocks['Adj Close'].columns)\n",
        "\n",
        "#df_stocks['Adj Close']#[columns[0:10]].plot(figsize=(20,10))"
      ],
      "execution_count": 14,
      "outputs": []
    },
    {
      "cell_type": "code",
      "metadata": {
        "id": "UChZdiu4SRN4",
        "colab": {
          "base_uri": "https://localhost:8080/"
        },
        "outputId": "2743f5f4-6df9-4c7f-9a0f-3cc5d75f9608"
      },
      "source": [
        "#import emoji\n",
        "!pip install emoji --upgrade"
      ],
      "execution_count": 15,
      "outputs": [
        {
          "output_type": "stream",
          "text": [
            "Requirement already up-to-date: emoji in /usr/local/lib/python3.7/dist-packages (1.2.0)\n"
          ],
          "name": "stdout"
        }
      ]
    },
    {
      "cell_type": "code",
      "metadata": {
        "id": "wiin7NOiSu96"
      },
      "source": [
        "import emoji"
      ],
      "execution_count": 16,
      "outputs": []
    },
    {
      "cell_type": "code",
      "metadata": {
        "id": "E6LcfFJjGzG2",
        "colab": {
          "base_uri": "https://localhost:8080/"
        },
        "outputId": "9f18fe5e-cb25-4d30-a1fe-bdadbeba9a14"
      },
      "source": [
        "import glob \n",
        "import itertools\n",
        "filenames = glob.glob('/content/drive/MyDrive/OTCMKT/Tweets_json/*.json')\n",
        "print(itertools.chain(filenames))\n",
        "import re\n",
        "import string\n",
        "emoj_pattern = emoji.get_emoji_regexp()\n",
        "def remove_emojis(data,emoj):\n",
        "    #emoj = emoji.get_emoji_regexp()\n",
        "    return re.sub(emoj, '', data)\n",
        "\n",
        "All_tweets={}\n",
        "for it in itertools.chain(filenames):\n",
        "  #print(it)\n",
        "  date = []\n",
        "  tweet = []\n",
        "  unique = (it.split('/')[-1].split('.')[0].split('$')[-1])\n",
        "  for i,f in enumerate(open(it,'r')):\n",
        "      data = json.loads(f)\n",
        "      date.append(data['date'])\n",
        "      #tweet.append(re.sub('[\\#+|\\-+|\\$+|\\_+|\\.+]','',remove_emojis(data['tweet'],emoj_pattern)))\n",
        "      tweet.append(re.sub('[\\#+|\\-+|\\$+|\\_+|\\.+]','',data['tweet']))\n",
        "  All_tweets['Date'+unique]=date\n",
        "  All_tweets['Tweets'+unique] = tweet\n",
        "#All_tweets"
      ],
      "execution_count": 17,
      "outputs": [
        {
          "output_type": "stream",
          "text": [
            "<itertools.chain object at 0x7f2def9a6610>\n"
          ],
          "name": "stdout"
        }
      ]
    },
    {
      "cell_type": "code",
      "metadata": {
        "id": "HYkE0gALLHYR"
      },
      "source": [
        "key_list = list(All_tweets.keys())\n",
        "pattern = re.compile('https?://[A-Za-z0-9./]+')\n",
        "pattern_2 = re.compile('@[A-Za-z0-9]+')\n",
        "pattern_3 = re.compile(r'\\———+')\n",
        "for ke in key_list:\n",
        "  tweets = []\n",
        "  if ke.find('Tweets')!=-1:\n",
        "    vals = All_tweets[ke]\n",
        "    for tweet in vals:\n",
        "      tweets.append((re.sub(pattern_3,'',re.sub(pattern_2,'',re.sub(pattern,'',tweet)))).replace(string.punctuation,''))\n",
        "    All_tweets[ke]=tweets\n",
        "#All_tweets"
      ],
      "execution_count": 18,
      "outputs": []
    },
    {
      "cell_type": "code",
      "metadata": {
        "id": "WjSuFjlcO0do"
      },
      "source": [
        "#All_tweets['TweetsRGBP']"
      ],
      "execution_count": 19,
      "outputs": []
    },
    {
      "cell_type": "code",
      "metadata": {
        "id": "eX1sSpIt1HjT"
      },
      "source": [
        "with open('/content/drive/MyDrive/OTCMKT/All_tweets_with_emojis_with_punctuations.json', 'w') as outfile:\n",
        "    json.dump(All_tweets, outfile)"
      ],
      "execution_count": 20,
      "outputs": []
    },
    {
      "cell_type": "markdown",
      "metadata": {
        "id": "kRxk4BqpGyoN"
      },
      "source": [
        "# This I am doing it to bring it to proper shape."
      ]
    },
    {
      "cell_type": "code",
      "metadata": {
        "id": "PNwzPyYukdq4",
        "colab": {
          "base_uri": "https://localhost:8080/"
        },
        "outputId": "8b77098a-b4dd-4d14-a7e3-e1ad2a1bdf16"
      },
      "source": [
        "with open('/content/drive/MyDrive/OTCMKT/All_tweets_with_emojis_with_punctuations.json','r') as f:\n",
        "  data = (json.load(f))\n",
        "\n",
        "\n",
        "df = pd.DataFrame.from_dict(data, orient='index')\n",
        "print(df)\n",
        "Dates = []\n",
        "Tweets = []\n",
        "Ticker  = []\n",
        "for key, vals in data.items():\n",
        "  if key.find('Date')>-1:\n",
        "    Dates = Dates+vals\n",
        "  elif key.find('Tweets')>-1:\n",
        "    Tweets = Tweets+vals\n",
        "    Ticker = Ticker + [key.split('Tweets')[1]]*len(vals)\n",
        "df_tweets = pd.DataFrame({'Dates':Dates,'Tweets':Tweets,'Ticker':Ticker})\n",
        "## Convert dates column to datetime index\n",
        "df_tweets['Dates'] = pd.to_datetime(df_tweets['Dates'])\n",
        "df_tweets.set_index('Dates')[['Ticker','Tweets']].to_parquet('/content/drive/MyDrive/OTCMKT/All_tweets_correct_format.parquet.gzip',\n",
        "              compression='gzip')"
      ],
      "execution_count": 21,
      "outputs": [
        {
          "output_type": "stream",
          "text": [
            "                                                       0       ... 136113\n",
            "DateXTRM                                           2021-04-10  ...   None\n",
            "TweetsXTRM                        XTRM Which house  you like?  ...   None\n",
            "DateEESO                                           2021-04-08  ...   None\n",
            "TweetsEESO   When will we hear something Is EESO going to ...  ...   None\n",
            "DateSKGO                                           2021-03-31  ...   None\n",
            "...                                                       ...  ...    ...\n",
            "TweetsSPRL  Hey guys! This is the Twitter account of the s...  ...   None\n",
            "DateRXMD                                           2021-04-10  ...   None\n",
            "TweetsRXMD  RXMD Most undervalued OTC on the market 012/sh...  ...   None\n",
            "DateDKTS                                           2021-03-26  ...   None\n",
            "TweetsDKTS  MustWatch   FDBL  NEWS     OTC OTCMarkets TRAD...  ...   None\n",
            "\n",
            "[2712 rows x 136114 columns]\n"
          ],
          "name": "stdout"
        }
      ]
    },
    {
      "cell_type": "code",
      "metadata": {
        "id": "nA5mWi6-7uiC"
      },
      "source": [
        "df_tweets = pd.read_parquet('/content/drive/MyDrive/OTCMKT/All_tweets_correct_format.parquet.gzip')"
      ],
      "execution_count": 23,
      "outputs": []
    },
    {
      "cell_type": "code",
      "metadata": {
        "colab": {
          "base_uri": "https://localhost:8080/"
        },
        "id": "ttLjWlcoF20H",
        "outputId": "974a3364-ea60-47fb-dd67-646f2623259d"
      },
      "source": [
        "df_tweets.shape"
      ],
      "execution_count": 24,
      "outputs": [
        {
          "output_type": "execute_result",
          "data": {
            "text/plain": [
              "(10858927, 2)"
            ]
          },
          "metadata": {
            "tags": []
          },
          "execution_count": 24
        }
      ]
    }
  ]
}